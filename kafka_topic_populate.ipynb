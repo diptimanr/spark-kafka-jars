{
 "cells": [
  {
   "cell_type": "code",
   "execution_count": null,
   "id": "9b326838",
   "metadata": {},
   "outputs": [],
   "source": [
    "!pip install Faker"
   ]
  },
  {
   "cell_type": "code",
   "execution_count": null,
   "id": "92cb7dac",
   "metadata": {},
   "outputs": [],
   "source": [
    "!pip install kafka-python"
   ]
  },
  {
   "cell_type": "code",
   "execution_count": null,
   "id": "bc6526e6",
   "metadata": {},
   "outputs": [],
   "source": [
    "from faker import Faker\n",
    "from kafka import KafkaProducer\n",
    "\n",
    "import json\n",
    "import time"
   ]
  },
  {
   "cell_type": "code",
   "execution_count": null,
   "id": "8ef9766d",
   "metadata": {},
   "outputs": [],
   "source": [
    "fake = Faker()"
   ]
  },
  {
   "cell_type": "code",
   "execution_count": null,
   "id": "f61502ea",
   "metadata": {},
   "outputs": [],
   "source": [
    "def get_user_data():\n",
    "    return {\n",
    "        \"username\": fake.name(),\n",
    "        \"userlocation\": fake.address(),\n",
    "        \"created_ts\": fake.year()\n",
    "    }"
   ]
  },
  {
   "cell_type": "code",
   "execution_count": null,
   "id": "b0cba0f2",
   "metadata": {},
   "outputs": [],
   "source": [
    "def json_serialize(userdata):\n",
    "    return json.dumps(data).encode(\"utf-8\")"
   ]
  },
  {
   "cell_type": "code",
   "execution_count": null,
   "id": "145c6891",
   "metadata": {},
   "outputs": [],
   "source": [
    "producer = KafkaProducer(bootstrap_servers=['<KAFKA_BROKER_VM_IP>6:9092'], value_serializer = json_serialize)"
   ]
  },
  {
   "cell_type": "code",
   "execution_count": null,
   "id": "53704478",
   "metadata": {},
   "outputs": [],
   "source": [
    "while(True):\n",
    "    user = get_user_data()\n",
    "    print(registered_user)\n",
    "    producer.send(\"userdata\", user)\n",
    "    time.sleep(5)\n",
    "    print(\"..... start next loop ....\")"
   ]
  }
 ],
 "metadata": {
  "kernelspec": {
   "display_name": "Python 3 (ipykernel)",
   "language": "python",
   "name": "python3"
  },
  "language_info": {
   "codemirror_mode": {
    "name": "ipython",
    "version": 3
   },
   "file_extension": ".py",
   "mimetype": "text/x-python",
   "name": "python",
   "nbconvert_exporter": "python",
   "pygments_lexer": "ipython3",
   "version": "3.8.5"
  }
 },
 "nbformat": 4,
 "nbformat_minor": 5
}
