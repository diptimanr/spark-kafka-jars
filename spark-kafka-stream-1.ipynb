{
 "cells": [
  {
   "cell_type": "code",
   "execution_count": null,
   "id": "53406951",
   "metadata": {},
   "outputs": [],
   "source": [
    "from pyspark.sql import SparkSession\n",
    "from pyspark.sql.functions import *\n",
    "from pyspark.sql.types import *"
   ]
  },
  {
   "cell_type": "code",
   "execution_count": null,
   "id": "64391267",
   "metadata": {},
   "outputs": [],
   "source": [
    "spark = SparkSession.builder \\\n",
    "        .appName(\"kafka-userdata-stream\") \\\n",
    "        .config(\"spark.streaming.stopGracefullyOnShutdown\", \"true\") \\\n",
    "        .getOrCreate()"
   ]
  },
  {
   "cell_type": "code",
   "execution_count": null,
   "id": "9ea4e99f",
   "metadata": {},
   "outputs": [],
   "source": [
    "reguser_schema = StructType([\n",
    "    StructField(\"username\", StringType()),\n",
    "    StructField(\"userlocation\", StringType()),\n",
    "    StructField(\"created_ts\", StringType())\n",
    "])"
   ]
  },
  {
   "cell_type": "code",
   "execution_count": null,
   "id": "c89049b9",
   "metadata": {},
   "outputs": [],
   "source": [
    "kafka_df = spark.readStream \\\n",
    "            .format(\"kafka\") \\\n",
    "            .option(\"kafka.bootstrap.servers\", \"<KAFKA_BROKER_VM_IP:9092\") \\\n",
    "            .option(\"subscribe\", \"userdata\") \\\n",
    "            .option(\"startingOffsets\", \"latest\") \\\n",
    "            .load()"
   ]
  },
  {
   "cell_type": "code",
   "execution_count": null,
   "id": "4df3f919",
   "metadata": {},
   "outputs": [],
   "source": [
    "value_df = kafka_df.select(from_json(col(\"value\").cast(\"string\"), reguser_schema).alias(\"value\"))"
   ]
  },
  {
   "cell_type": "code",
   "execution_count": null,
   "id": "bee1bda6",
   "metadata": {},
   "outputs": [],
   "source": [
    "#value_df.printSchema()"
   ]
  },
  {
   "cell_type": "code",
   "execution_count": null,
   "id": "a0f6729e",
   "metadata": {},
   "outputs": [],
   "source": [
    "exploded_df = value_df.selectExpr(\"value.username\", \"value.userlocation\", \"value.created_ts\")"
   ]
  },
  {
   "cell_type": "code",
   "execution_count": null,
   "id": "b4d946e4",
   "metadata": {},
   "outputs": [],
   "source": [
    "reguser_writer_query = exploded_df.writeStream \\\n",
    "    .format(\"json\") \\\n",
    "    .queryName(\"user writer\") \\\n",
    "    .outputMode(\"append\") \\\n",
    "    .option(\"path\", \"<GCS_BUCKET_OUTPUT>\") \\\n",
    "    .option(\"checkpointLocation\", \"<GCS_BUCKET_CHK_POINT_DIR>) \\\n",
    "    .trigger(processingTime=\"1 minute\") \\\n",
    "    .start()"
   ]
  },
  {
   "cell_type": "code",
   "execution_count": null,
   "id": "87575fb1",
   "metadata": {},
   "outputs": [],
   "source": [
    "reguser_writer_query.awaitTermination()"
   ]
  }
 ],
 "metadata": {
  "kernelspec": {
   "display_name": "Python 3 (ipykernel)",
   "language": "python",
   "name": "python3"
  },
  "language_info": {
   "codemirror_mode": {
    "name": "ipython",
    "version": 3
   },
   "file_extension": ".py",
   "mimetype": "text/x-python",
   "name": "python",
   "nbconvert_exporter": "python",
   "pygments_lexer": "ipython3",
   "version": "3.8.5"
  }
 },
 "nbformat": 4,
 "nbformat_minor": 5
}
